{
 "cells": [
  {
   "cell_type": "code",
   "execution_count": 17,
   "id": "130e7286",
   "metadata": {},
   "outputs": [],
   "source": [
    "#QN0.1 ANS\n",
    "\n",
    "import re\n",
    "\n",
    "def check_password(password):\n",
    "    if len(password) != 10:\n",
    "        return \"Invalid Password\"\n",
    "\n",
    "    uppercase_count = len(re.findall(r'[A-Z]', password))\n",
    "    lowercase_count = len(re.findall(r'[a-z]', password))\n",
    "    if uppercase_count < 2 or lowercase_count < 2:\n",
    "        return \"Invalid Password\"\n",
    "\n",
    "   \n",
    "    number_count = len(re.findall(r'\\d', password))\n",
    "    special_char_count = len(re.findall(r'[!@#$%^&*()_+]', password))\n",
    "    if number_count < 1 or special_char_count < 3:\n",
    "        return \"Invalid Password\"\n",
    "\n",
    "   \n",
    "    return \"Valid Password\""
   ]
  },
  {
   "cell_type": "markdown",
   "id": "1a7f6113",
   "metadata": {},
   "source": [
    "#QNO.2 ANS (a)"
   ]
  },
  {
   "cell_type": "code",
   "execution_count": 20,
   "id": "c6f049c0",
   "metadata": {},
   "outputs": [
    {
     "name": "stdout",
     "output_type": "stream",
     "text": [
      "['cherry']\n",
      "['cherry']\n"
     ]
    }
   ],
   "source": [
    "words = ['apple', 'banana', 'cherry', 'date']\n",
    "\n",
    "filtered_words = list(filter(lambda x: x.startswith('c'), words))\n",
    "print(filtered_words) \n",
    "\n",
    "filtered_words = [word for word in words if word.startswith('c')]\n",
    "print(filtered_words)\n"
   ]
  },
  {
   "cell_type": "markdown",
   "id": "8be938e7",
   "metadata": {},
   "source": [
    "#QNO.2 ANS (b)"
   ]
  },
  {
   "cell_type": "code",
   "execution_count": 21,
   "id": "58457623",
   "metadata": {},
   "outputs": [
    {
     "name": "stdout",
     "output_type": "stream",
     "text": [
      "['123']\n",
      "['123']\n"
     ]
    }
   ],
   "source": [
    "strings = ['123', 'abc', '456.7', '89.0']\n",
    "\n",
    "numeric_strings = list(filter(lambda x: x.isnumeric(), strings))\n",
    "print(numeric_strings) \n",
    "\n",
    "numeric_strings = [string for string in strings if string.isnumeric()]\n",
    "print(numeric_strings) "
   ]
  },
  {
   "cell_type": "markdown",
   "id": "72ab6b71",
   "metadata": {},
   "source": [
    "(c)"
   ]
  },
  {
   "cell_type": "code",
   "execution_count": 22,
   "id": "a0e13dde",
   "metadata": {},
   "outputs": [
    {
     "name": "stdout",
     "output_type": "stream",
     "text": [
      "[('orange', 80), ('mango', 99), ('grapes', 1000)]\n",
      "[('orange', 80), ('mango', 99), ('grapes', 1000)]\n"
     ]
    }
   ],
   "source": [
    "fruits = [(\"mango\", 99), (\"orange\", 80), (\"grapes\", 1000)]\n",
    "\n",
    "\n",
    "sorted_fruits = sorted(fruits, key=lambda x: x[1])\n",
    "print(sorted_fruits) \n",
    "\n",
    "\n",
    "sorted_fruits = sorted([(fruit, quantity) for (fruit, quantity) in fruits], key=lambda x: x[1])\n",
    "print(sorted_fruits)"
   ]
  },
  {
   "cell_type": "markdown",
   "id": "d275e4a0",
   "metadata": {},
   "source": [
    "(d) ans"
   ]
  },
  {
   "cell_type": "code",
   "execution_count": 26,
   "id": "f41db6cd",
   "metadata": {},
   "outputs": [
    {
     "name": "stdout",
     "output_type": "stream",
     "text": [
      "[1, 4, 9, 16, 25, 36, 49, 64, 81, 100]\n",
      "[1, 4, 9, 16, 25, 36, 49, 64, 81, 100]\n"
     ]
    }
   ],
   "source": [
    "\n",
    "squares = list(map(lambda x: x ** 2, range(1, 11)))\n",
    "print(squares) \n",
    "\n",
    "squares = [x ** 2 for x in range(1, 11)]\n",
    "print(squares)"
   ]
  },
  {
   "cell_type": "markdown",
   "id": "814f955a",
   "metadata": {},
   "source": [
    "(e) ans"
   ]
  },
  {
   "cell_type": "code",
   "execution_count": 27,
   "id": "63e921ad",
   "metadata": {},
   "outputs": [
    {
     "name": "stdout",
     "output_type": "stream",
     "text": [
      "[1.0, 1.2599210498948732, 1.4422495703074083, 1.5874010519681994, 1.7099759466766968, 1.8171205928321397, 1.912931182772389, 2.0, 2.080083823051904, 2.154434690031884]\n"
     ]
    }
   ],
   "source": [
    "import math\n",
    "\n",
    "cube_roots = list(map(lambda x: math.pow(x, 1/3), range(1, 11)))\n",
    "print(cube_roots) \n"
   ]
  },
  {
   "cell_type": "code",
   "execution_count": null,
   "id": "6bc6200e",
   "metadata": {},
   "outputs": [],
   "source": []
  }
 ],
 "metadata": {
  "kernelspec": {
   "display_name": "Python 3 (ipykernel)",
   "language": "python",
   "name": "python3"
  },
  "language_info": {
   "codemirror_mode": {
    "name": "ipython",
    "version": 3
   },
   "file_extension": ".py",
   "mimetype": "text/x-python",
   "name": "python",
   "nbconvert_exporter": "python",
   "pygments_lexer": "ipython3",
   "version": "3.9.13"
  }
 },
 "nbformat": 4,
 "nbformat_minor": 5
}
